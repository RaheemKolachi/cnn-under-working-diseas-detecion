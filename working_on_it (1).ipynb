{
  "cells": [
    {
      "cell_type": "code",
      "execution_count": 4,
      "metadata": {
        "id": "LKB6uOHimobq"
      },
      "outputs": [],
      "source": [
        "import keras\n",
        "import tensorflow as tf\n",
        "from keras.preprocessing.image import ImageDataGenerator\n",
        "from tensorflow.keras.optimizers import Adam \n",
        "from keras.callbacks import ModelCheckpoint \n",
        "import numpy as np\n",
        "import matplotlib.pyplot as plt\n",
        "from imutils import paths \n",
        "import os"
      ]
    },
    {
      "cell_type": "code",
      "execution_count": 5,
      "metadata": {
        "id": "2K7wZFTWn2Ai"
      },
      "outputs": [],
      "source": [
        "train_data=\"/content/drive/MyDrive/Colab Notebooks/DataSets/training\"\n",
        "vali_data=\"/content/drive/MyDrive/Colab Notebooks/DataSets/validation\"\n"
      ]
    },
    {
      "cell_type": "code",
      "source": [
        "path=list(paths.list_images(\"/content/drive/MyDrive/Colab Notebooks/DataSets/validation\"))\n",
        "label=[]\n",
        "\n",
        "for (i, image_path) in enumerate(path):\n",
        "    lab = image_path.split(os.path.sep)[-2].split(\".\")[0]\n",
        "    label.append(lab)\n",
        "y = np.array(label)\n"
      ],
      "metadata": {
        "id": "GjINQq1YjyXp"
      },
      "execution_count": 6,
      "outputs": []
    },
    {
      "cell_type": "code",
      "execution_count": 7,
      "metadata": {
        "id": "TtqS5Z-jpGqD",
        "colab": {
          "base_uri": "https://localhost:8080/"
        },
        "outputId": "1b31c25b-44f0-4f9a-c863-dd4c5160e955"
      },
      "outputs": [
        {
          "output_type": "stream",
          "name": "stdout",
          "text": [
            "Found 730 images belonging to 2 classes.\n"
          ]
        }
      ],
      "source": [
        "training_datagen=ImageDataGenerator(rescale=1./255,\n",
        "                                 rotation_range=40,\n",
        "                                 width_shift_range=0.2,\n",
        "                                 height_shift_range=0.2,\n",
        "                                 shear_range=0.2,\n",
        "                                 zoom_range=0.2,\n",
        "                                 horizontal_flip=True,\n",
        "                                 fill_mode='nearest')\n",
        "\n",
        "training_data=training_datagen.flow_from_directory(train_data,\n",
        "                                                   target_size=(150,150),\n",
        "                                                   batch_size=32,\n",
        "                                                   class_mode='binary')\n",
        "                                                "
      ]
    },
    {
      "cell_type": "code",
      "execution_count": 35,
      "metadata": {
        "id": "DxzXjDl9qm8S",
        "colab": {
          "base_uri": "https://localhost:8080/"
        },
        "outputId": "19de4d46-4870-432d-b2f8-d0bfdd5bcdc0"
      },
      "outputs": [
        {
          "output_type": "execute_result",
          "data": {
            "text/plain": [
              "{'bacterial_blight': 0, 'curl_virus': 1}"
            ]
          },
          "metadata": {},
          "execution_count": 35
        }
      ],
      "source": [
        "pre=training_data.class_indices\n",
        "pre"
      ]
    },
    {
      "cell_type": "code",
      "source": [
        "x = np.char.replace(y, 'curl_virus', \"1\")\n",
        "actualdata=(np.char.replace(x, 'bacterial_blight', \"0\"))\n",
        "ydata=[]\n",
        "for (i,d) in enumerate(actualdata):\n",
        "  k=int(d)\n",
        "  ydata.append(k)"
      ],
      "metadata": {
        "id": "V52IPR0KU2Ph"
      },
      "execution_count": 52,
      "outputs": []
    },
    {
      "cell_type": "code",
      "source": [
        "from google.colab import drive\n",
        "drive.mount('/content/drive')"
      ],
      "metadata": {
        "id": "v6giKxJPMYLC",
        "colab": {
          "base_uri": "https://localhost:8080/"
        },
        "outputId": "c15227ed-e77e-4c6b-c22b-b8c685a775ef"
      },
      "execution_count": 3,
      "outputs": [
        {
          "output_type": "stream",
          "name": "stdout",
          "text": [
            "Mounted at /content/drive\n"
          ]
        }
      ]
    },
    {
      "cell_type": "code",
      "source": [
        "valid_data"
      ],
      "metadata": {
        "id": "bDiWt0stgORS",
        "colab": {
          "base_uri": "https://localhost:8080/"
        },
        "outputId": "228d21fe-9335-4de1-e13d-ede85847c881"
      },
      "execution_count": 61,
      "outputs": [
        {
          "output_type": "execute_result",
          "data": {
            "text/plain": [
              "<keras.preprocessing.image.DirectoryIterator at 0x7f667008e910>"
            ]
          },
          "metadata": {},
          "execution_count": 61
        }
      ]
    },
    {
      "cell_type": "code",
      "execution_count": 66,
      "metadata": {
        "id": "MHPmpg39queO",
        "colab": {
          "base_uri": "https://localhost:8080/"
        },
        "outputId": "1cb0a5b6-7569-4657-98bb-3dc269a35681"
      },
      "outputs": [
        {
          "output_type": "stream",
          "name": "stdout",
          "text": [
            "Found 135 images belonging to 2 classes.\n"
          ]
        }
      ],
      "source": [
        "valid_datagen=ImageDataGenerator()\n",
        "valid_data=valid_datagen.flow_from_directory(vali_data,\n",
        "                                             target_size=(150,150),\n",
        "                                             #batch_size=32,\n",
        "                                             class_mode='binary')"
      ]
    },
    {
      "cell_type": "code",
      "execution_count": 57,
      "metadata": {
        "id": "DMQ0S5Oxr3Vi"
      },
      "outputs": [],
      "source": [
        "model_path='/content/drive/MyDrive/Colab Notebooks/ model11.h5'\n",
        "checkpoint=ModelCheckpoint(model_path,monitor='val_accuracy',verbose=1,save_best_only=True,mode='max')\n",
        "callbacks_list=[checkpoint]\n"
      ]
    },
    {
      "cell_type": "code",
      "execution_count": 12,
      "metadata": {
        "id": "LZ4oZroBtA2e"
      },
      "outputs": [],
      "source": [
        "modelfinal=keras.models.Sequential([\n",
        "                              keras.layers.Conv2D(filters=32,kernel_size=3,input_shape=[150,150,3]),\n",
        "                              keras.layers.MaxPooling2D(pool_size=(2,2)),\n",
        "                              keras.layers.Conv2D(filters=64,kernel_size=3),\n",
        "                              keras.layers.MaxPooling2D(pool_size=(2,2)),\n",
        "                              keras.layers.Conv2D(filters=128,kernel_size=3),\n",
        "                              keras.layers.MaxPooling2D(pool_size=(2,2)),\n",
        "\n",
        "                              keras.layers.Dropout(0.5),\n",
        "                              keras.layers.Flatten(),\n",
        "                              keras.layers.Dense(units=128,activation='relu'),\n",
        "                              keras.layers.Dropout(0.1),\n",
        "                              keras.layers.Dense(units=256,activation='relu'),\n",
        "                              keras.layers.Dropout(0.25),\n",
        "                              keras.layers.Dense(units=32,activation='softmax'),\n",
        "])"
      ]
    },
    {
      "cell_type": "code",
      "execution_count": 13,
      "metadata": {
        "id": "SSlQ672rxeS6",
        "colab": {
          "base_uri": "https://localhost:8080/"
        },
        "outputId": "3e6f529c-4604-46a0-b1a7-aea3327bdd47"
      },
      "outputs": [
        {
          "output_type": "stream",
          "name": "stderr",
          "text": [
            "/usr/local/lib/python3.7/dist-packages/keras/optimizer_v2/adam.py:105: UserWarning: The `lr` argument is deprecated, use `learning_rate` instead.\n",
            "  super(Adam, self).__init__(name, **kwargs)\n"
          ]
        }
      ],
      "source": [
        "modelfinal.compile(optimizer=Adam(lr=0.0001),loss='sparse_categorical_crossentropy',metrics=['accuracy'])"
      ]
    },
    {
      "cell_type": "code",
      "execution_count": 14,
      "metadata": {
        "id": "Ss35dLpTyZx2",
        "colab": {
          "base_uri": "https://localhost:8080/"
        },
        "outputId": "eb06010b-2f58-4874-9a2b-a43f8adacfcb"
      },
      "outputs": [
        {
          "output_type": "stream",
          "name": "stdout",
          "text": [
            "Model: \"sequential\"\n",
            "_________________________________________________________________\n",
            " Layer (type)                Output Shape              Param #   \n",
            "=================================================================\n",
            " conv2d (Conv2D)             (None, 148, 148, 32)      896       \n",
            "                                                                 \n",
            " max_pooling2d (MaxPooling2D  (None, 74, 74, 32)       0         \n",
            " )                                                               \n",
            "                                                                 \n",
            " conv2d_1 (Conv2D)           (None, 72, 72, 64)        18496     \n",
            "                                                                 \n",
            " max_pooling2d_1 (MaxPooling  (None, 36, 36, 64)       0         \n",
            " 2D)                                                             \n",
            "                                                                 \n",
            " conv2d_2 (Conv2D)           (None, 34, 34, 128)       73856     \n",
            "                                                                 \n",
            " max_pooling2d_2 (MaxPooling  (None, 17, 17, 128)      0         \n",
            " 2D)                                                             \n",
            "                                                                 \n",
            " dropout (Dropout)           (None, 17, 17, 128)       0         \n",
            "                                                                 \n",
            " flatten (Flatten)           (None, 36992)             0         \n",
            "                                                                 \n",
            " dense (Dense)               (None, 128)               4735104   \n",
            "                                                                 \n",
            " dropout_1 (Dropout)         (None, 128)               0         \n",
            "                                                                 \n",
            " dense_1 (Dense)             (None, 256)               33024     \n",
            "                                                                 \n",
            " dropout_2 (Dropout)         (None, 256)               0         \n",
            "                                                                 \n",
            " dense_2 (Dense)             (None, 32)                8224      \n",
            "                                                                 \n",
            "=================================================================\n",
            "Total params: 4,869,600\n",
            "Trainable params: 4,869,600\n",
            "Non-trainable params: 0\n",
            "_________________________________________________________________\n"
          ]
        }
      ],
      "source": [
        "modelfinal.summary()"
      ]
    },
    {
      "cell_type": "code",
      "execution_count": 15,
      "metadata": {
        "colab": {
          "base_uri": "https://localhost:8080/"
        },
        "id": "9ncTy_XIyi2s",
        "outputId": "dbf45845-f3de-42da-ea75-f844c721afb5"
      },
      "outputs": [
        {
          "output_type": "stream",
          "name": "stdout",
          "text": [
            "Epoch 1/10\n",
            "23/23 [==============================] - ETA: 0s - loss: 1.6558 - accuracy: 0.4959\n",
            "Epoch 1: val_accuracy improved from -inf to 0.62222, saving model to /content/drive/MyDrive/Colab Notebooks/ model11.h5\n",
            "23/23 [==============================] - 96s 4s/step - loss: 1.6558 - accuracy: 0.4959 - val_loss: 0.6763 - val_accuracy: 0.6222\n",
            "Epoch 2/10\n",
            "23/23 [==============================] - ETA: 0s - loss: 0.9870 - accuracy: 0.5137\n",
            "Epoch 2: val_accuracy improved from 0.62222 to 0.63704, saving model to /content/drive/MyDrive/Colab Notebooks/ model11.h5\n",
            "23/23 [==============================] - 11s 466ms/step - loss: 0.9870 - accuracy: 0.5137 - val_loss: 0.6900 - val_accuracy: 0.6370\n",
            "Epoch 3/10\n",
            "23/23 [==============================] - ETA: 0s - loss: 0.8394 - accuracy: 0.5753\n",
            "Epoch 3: val_accuracy improved from 0.63704 to 0.64444, saving model to /content/drive/MyDrive/Colab Notebooks/ model11.h5\n",
            "23/23 [==============================] - 10s 457ms/step - loss: 0.8394 - accuracy: 0.5753 - val_loss: 0.6533 - val_accuracy: 0.6444\n",
            "Epoch 4/10\n",
            "23/23 [==============================] - ETA: 0s - loss: 0.7664 - accuracy: 0.5932\n",
            "Epoch 4: val_accuracy improved from 0.64444 to 0.68148, saving model to /content/drive/MyDrive/Colab Notebooks/ model11.h5\n",
            "23/23 [==============================] - 10s 447ms/step - loss: 0.7664 - accuracy: 0.5932 - val_loss: 0.6229 - val_accuracy: 0.6815\n",
            "Epoch 5/10\n",
            "23/23 [==============================] - ETA: 0s - loss: 0.6814 - accuracy: 0.6521\n",
            "Epoch 5: val_accuracy did not improve from 0.68148\n",
            "23/23 [==============================] - 10s 440ms/step - loss: 0.6814 - accuracy: 0.6521 - val_loss: 0.5822 - val_accuracy: 0.6519\n",
            "Epoch 6/10\n",
            "23/23 [==============================] - ETA: 0s - loss: 0.6538 - accuracy: 0.6589\n",
            "Epoch 6: val_accuracy did not improve from 0.68148\n",
            "23/23 [==============================] - 11s 482ms/step - loss: 0.6538 - accuracy: 0.6589 - val_loss: 0.5753 - val_accuracy: 0.6519\n",
            "Epoch 7/10\n",
            "23/23 [==============================] - ETA: 0s - loss: 0.6878 - accuracy: 0.6411\n",
            "Epoch 7: val_accuracy did not improve from 0.68148\n",
            "23/23 [==============================] - 10s 430ms/step - loss: 0.6878 - accuracy: 0.6411 - val_loss: 0.5702 - val_accuracy: 0.6444\n",
            "Epoch 8/10\n",
            "23/23 [==============================] - ETA: 0s - loss: 0.6574 - accuracy: 0.6575\n",
            "Epoch 8: val_accuracy did not improve from 0.68148\n",
            "23/23 [==============================] - 10s 430ms/step - loss: 0.6574 - accuracy: 0.6575 - val_loss: 0.5819 - val_accuracy: 0.6519\n",
            "Epoch 9/10\n",
            "23/23 [==============================] - ETA: 0s - loss: 0.6238 - accuracy: 0.6836\n",
            "Epoch 9: val_accuracy did not improve from 0.68148\n",
            "23/23 [==============================] - 10s 429ms/step - loss: 0.6238 - accuracy: 0.6836 - val_loss: 0.5505 - val_accuracy: 0.6444\n",
            "Epoch 10/10\n",
            "23/23 [==============================] - ETA: 0s - loss: 0.5858 - accuracy: 0.6932\n",
            "Epoch 10: val_accuracy improved from 0.68148 to 0.68889, saving model to /content/drive/MyDrive/Colab Notebooks/ model11.h5\n",
            "23/23 [==============================] - 10s 458ms/step - loss: 0.5858 - accuracy: 0.6932 - val_loss: 0.5446 - val_accuracy: 0.6889\n"
          ]
        }
      ],
      "source": [
        "training=modelfinal.fit(training_data,\n",
        "                   epochs=10,\n",
        "                   verbose=1,\n",
        "                   validation_data=valid_data,\n",
        "                   callbacks=callbacks_list\n",
        "                   )"
      ]
    },
    {
      "cell_type": "code",
      "source": [
        ""
      ],
      "metadata": {
        "id": "kr2ZiNXiWNFb",
        "colab": {
          "base_uri": "https://localhost:8080/"
        },
        "outputId": "c2e08c16-f19d-4d3a-bdb2-a63d7cb9b45d"
      },
      "execution_count": null,
      "outputs": [
        {
          "output_type": "stream",
          "name": "stdout",
          "text": [
            "Drive already mounted at /content/drive; to attempt to forcibly remount, call drive.mount(\"/content/drive\", force_remount=True).\n"
          ]
        }
      ]
    },
    {
      "cell_type": "code",
      "execution_count": 58,
      "metadata": {
        "id": "DIEz0EhdjPSq",
        "colab": {
          "base_uri": "https://localhost:8080/"
        },
        "outputId": "bf0fb5c0-2b47-49e1-9f54-df55723e122b"
      },
      "outputs": [
        {
          "output_type": "stream",
          "name": "stdout",
          "text": [
            "5/5 [==============================] - 1s 236ms/step - loss: 0.5446 - accuracy: 0.6889\n"
          ]
        },
        {
          "output_type": "execute_result",
          "data": {
            "text/plain": [
              "[0.5446435809135437, 0.6888889074325562]"
            ]
          },
          "metadata": {},
          "execution_count": 58
        }
      ],
      "source": [
        "modelfinal.evaluate(valid_data)"
      ]
    },
    {
      "cell_type": "code",
      "execution_count": 43,
      "metadata": {
        "id": "YtPfIkpWtbXz"
      },
      "outputs": [],
      "source": [
        "modelfinal.save('/content/drive/MyDrive/Colab Notebooks/ almostready4.h5')"
      ]
    },
    {
      "cell_type": "code",
      "execution_count": 71,
      "metadata": {
        "id": "Qj269wzxkzHU"
      },
      "outputs": [],
      "source": [
        "pred=modelfinal.predict(valid_data)\n",
        "y_classes = pred.argmax(axis=-1)\n",
        "actualdata=y_classes"
      ]
    },
    {
      "cell_type": "code",
      "source": [
        "print(y_classes)"
      ],
      "metadata": {
        "id": "KHdJ-1vCyx7J",
        "outputId": "471b3025-9065-427d-ec66-acd85521ee8c",
        "colab": {
          "base_uri": "https://localhost:8080/"
        }
      },
      "execution_count": 72,
      "outputs": [
        {
          "output_type": "stream",
          "name": "stdout",
          "text": [
            "[1 0 0 1 1 1 1 0 0 0 1 0 0 0 0 1 0 0 0 1 1 1 1 1 0 0 1 1 1 0 0 0 0 0 1 1 0\n",
            " 1 0 1 0 0 1 1 1 1 0 1 1 0 1 1 0 0 1 0 1 0 1 1 1 0 1 0 0 0 0 0 0 1 0 0 1 1\n",
            " 0 0 0 1 0 0 1 0 0 0 1 0 0 0 1 0 1 0 1 0 1 1 0 0 1 1 0 0 1 1 1 1 1 1 1 0 0\n",
            " 0 1 1 1 1 1 0 0 0 1 1 0 1 1 0 1 0 1 0 1 0 1 0 1]\n"
          ]
        }
      ]
    },
    {
      "cell_type": "code",
      "source": [
        "from sklearn.metrics import confusion_matrix\n",
        "gar=confusion_matrix(y_classes,actualdata)\n",
        "import seaborn as ss\n",
        "ss.heatmap(gar,annot=True,xticklabels=\"CB\",yticklabels=\"CB\")"
      ],
      "metadata": {
        "id": "iFZXK-4bgSUS",
        "outputId": "6f9445b9-426e-4711-83a9-65226c1cd1ac",
        "colab": {
          "base_uri": "https://localhost:8080/",
          "height": 282
        }
      },
      "execution_count": 76,
      "outputs": [
        {
          "output_type": "execute_result",
          "data": {
            "text/plain": [
              "<matplotlib.axes._subplots.AxesSubplot at 0x7f6666871a10>"
            ]
          },
          "metadata": {},
          "execution_count": 76
        },
        {
          "output_type": "display_data",
          "data": {
            "text/plain": [
              "<Figure size 432x288 with 2 Axes>"
            ],
            "image/png": "[encoded data removed]"
          },
          "metadata": {
            "needs_background": "light"
          }
        }
      ]
    }
  ],
  "metadata": {
    "colab": {
      "name": "working on it.ipynb",
      "provenance": [],
      "collapsed_sections": []
    },
    "kernelspec": {
      "display_name": "Python 3",
      "name": "python3"
    },
    "language_info": {
      "name": "python"
    },
    "accelerator": "GPU",
    "gpuClass": "standard"
  },
  "nbformat": 4,
  "nbformat_minor": 0
}